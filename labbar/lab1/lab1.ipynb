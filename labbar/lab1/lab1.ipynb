{
 "cells": [
  {
   "attachments": {},
   "cell_type": "markdown",
   "metadata": {},
   "source": [
    "Uppgiften går ut på att göra en Wavelet transform och inverstransform med en HAAR wavelet. Syftet med uppgiften är att visa hur data kan komprimeras samt filtreras.\n",
    "\n",
    "För godkänt krävs en kod som kan utföra transform respektive inverstransform i ett antal svep enligt beskrivning i boken \"wavelet made easy\" samt föreläsningsanteckningar för matrisformulering. Till programkoden ska en kort rapport göras som beskriver kodens uppbyggnad, dvs centrala funktioner mm.\n",
    "\n",
    "Genom matrisformulering kan transformen utföras mha matrismultiplikation, koden ska även vara körbar i biblioteket cupy för att visa fördelen med att använda en GPU.\n",
    "\n",
    "En enkel filter definition ska även skapas för att ta bort wavelet koefficienter som understiger ett bestämt värde (valfritt)."
   ]
  },
  {
   "cell_type": "code",
   "execution_count": null,
   "metadata": {},
   "outputs": [],
   "source": [
    "def filter():   # typ valfri men ska användas för att filtrera i bilden. Ta bort koefficienter under ett visst tröskelvärde"
   ]
  },
  {
   "cell_type": "code",
   "execution_count": null,
   "metadata": {},
   "outputs": [],
   "source": [
    "def waveletmat():    # 7.1 definition av waveletmatris  (definierar H0TS0)"
   ]
  },
  {
   "cell_type": "code",
   "execution_count": null,
   "metadata": {},
   "outputs": [],
   "source": [
    "def matrix_mul():   # 7.5 H0T*(S0*H0) matrismultiplikation  (behövs för C1)"
   ]
  },
  {
   "cell_type": "code",
   "execution_count": null,
   "metadata": {},
   "outputs": [],
   "source": [
    "# MAIN \n",
    "# Bygg vidare på detta skript\n",
    "\n",
    "\n",
    "\n",
    "\n",
    "import matplotlib.pyplot as plt\n",
    "import numpy as np\n",
    "#import cupy as cp\n",
    "import os\n",
    "from mpl_toolkits.mplot3d import Axes3D\n",
    "from PIL import Image\n",
    "from matplotlib import pyplot\n",
    "#from keras.datasets import mnist\n",
    "import time\n",
    "import pywt\n",
    "import pywt.data\n",
    "\n",
    "tic = time.time()\n",
    "# Load image\n",
    "original = pywt.data.camera()\n",
    "image = Image.open('data_uppgift1.jpg').convert('LA') \n",
    "data = np.copy(np.asarray(image))\n",
    "datasize=4096\n",
    "data=data[0:datasize, 0:datasize, 0]\n",
    "data=data.astype('uint8')\n",
    "#(train_X, train_y), (test_X, test_y) = mnist.load_data()\n",
    "#Xfull=train_X[0]\n",
    "Xfull=data\n",
    "X=Xfull[0:datasize,0:datasize]\n",
    "#X=[[9,7,6,2],[5,3,4,4],[8,2,4,0],[6,0,2,2]]\n",
    "#pyplot.imshow(X, cmap=pyplot.get_cmap('gray'))"
   ]
  }
 ],
 "metadata": {
  "kernelspec": {
   "display_name": "base",
   "language": "python",
   "name": "python3"
  },
  "language_info": {
   "name": "python",
   "version": "3.9.13"
  },
  "orig_nbformat": 4,
  "vscode": {
   "interpreter": {
    "hash": "b09ec625f77bf4fd762565a912b97636504ad6ec901eb2d0f4cf5a7de23e1ee5"
   }
  }
 },
 "nbformat": 4,
 "nbformat_minor": 2
}
